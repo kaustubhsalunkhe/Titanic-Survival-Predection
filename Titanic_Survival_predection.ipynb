{
 "cells": [
  {
   "cell_type": "markdown",
   "id": "f0a03c8b-e637-4922-80a3-bec971224db8",
   "metadata": {},
   "source": [
    "Import Libraries :"
   ]
  },
  {
   "cell_type": "code",
   "execution_count": 2,
   "id": "7aefe98e-85db-43f2-afe3-e52d6cde0192",
   "metadata": {},
   "outputs": [],
   "source": [
    "import pandas as pd\n",
    "import numpy as np\n",
    "import seaborn as sns\n",
    "import matplotlib.pyplot as plt\n",
    "from sklearn.model_selection import train_test_split\n",
    "from sklearn.preprocessing import LabelEncoder\n",
    "from sklearn.linear_model import LogisticRegression\n",
    "from sklearn.metrics import accuracy_score\n",
    "from sklearn.tree import DecisionTreeClassifier\n",
    "from sklearn.ensemble import RandomForestClassifier\n",
    "from sklearn.neighbors import KNeighborsClassifier\n",
    "from sklearn import svm\n",
    "from sklearn.svm import SVC\n",
    "from sklearn.metrics import classification_report,accuracy_score\n",
    "import warnings\n",
    "warnings.filterwarnings('ignore')\n",
    "%matplotlib inline"
   ]
  },
  {
   "cell_type": "markdown",
   "id": "4b1f1d50-ca60-4d28-aa8d-507594a935ce",
   "metadata": {},
   "source": [
    "Load Data :"
   ]
  },
  {
   "cell_type": "code",
   "execution_count": 4,
   "id": "e0d54451-25e4-415a-ba7f-8beaef0ed56d",
   "metadata": {},
   "outputs": [],
   "source": [
    "train_data = pd.read_csv('train.csv')"
   ]
  },
  {
   "cell_type": "code",
   "execution_count": 5,
   "id": "6a88b60d-92f7-4592-8f60-b981a5161e94",
   "metadata": {},
   "outputs": [
    {
     "data": {
      "text/html": [
       "<div>\n",
       "<style scoped>\n",
       "    .dataframe tbody tr th:only-of-type {\n",
       "        vertical-align: middle;\n",
       "    }\n",
       "\n",
       "    .dataframe tbody tr th {\n",
       "        vertical-align: top;\n",
       "    }\n",
       "\n",
       "    .dataframe thead th {\n",
       "        text-align: right;\n",
       "    }\n",
       "</style>\n",
       "<table border=\"1\" class=\"dataframe\">\n",
       "  <thead>\n",
       "    <tr style=\"text-align: right;\">\n",
       "      <th></th>\n",
       "      <th>PassengerId</th>\n",
       "      <th>Survived</th>\n",
       "      <th>Pclass</th>\n",
       "      <th>Name</th>\n",
       "      <th>Sex</th>\n",
       "      <th>Age</th>\n",
       "      <th>SibSp</th>\n",
       "      <th>Parch</th>\n",
       "      <th>Ticket</th>\n",
       "      <th>Fare</th>\n",
       "      <th>Cabin</th>\n",
       "      <th>Embarked</th>\n",
       "    </tr>\n",
       "  </thead>\n",
       "  <tbody>\n",
       "    <tr>\n",
       "      <th>0</th>\n",
       "      <td>1</td>\n",
       "      <td>0</td>\n",
       "      <td>3</td>\n",
       "      <td>Braund, Mr. Owen Harris</td>\n",
       "      <td>male</td>\n",
       "      <td>22.0</td>\n",
       "      <td>1</td>\n",
       "      <td>0</td>\n",
       "      <td>A/5 21171</td>\n",
       "      <td>7.2500</td>\n",
       "      <td>NaN</td>\n",
       "      <td>S</td>\n",
       "    </tr>\n",
       "    <tr>\n",
       "      <th>1</th>\n",
       "      <td>2</td>\n",
       "      <td>1</td>\n",
       "      <td>1</td>\n",
       "      <td>Cumings, Mrs. John Bradley (Florence Briggs Th...</td>\n",
       "      <td>female</td>\n",
       "      <td>38.0</td>\n",
       "      <td>1</td>\n",
       "      <td>0</td>\n",
       "      <td>PC 17599</td>\n",
       "      <td>71.2833</td>\n",
       "      <td>C85</td>\n",
       "      <td>C</td>\n",
       "    </tr>\n",
       "    <tr>\n",
       "      <th>2</th>\n",
       "      <td>3</td>\n",
       "      <td>1</td>\n",
       "      <td>3</td>\n",
       "      <td>Heikkinen, Miss. Laina</td>\n",
       "      <td>female</td>\n",
       "      <td>26.0</td>\n",
       "      <td>0</td>\n",
       "      <td>0</td>\n",
       "      <td>STON/O2. 3101282</td>\n",
       "      <td>7.9250</td>\n",
       "      <td>NaN</td>\n",
       "      <td>S</td>\n",
       "    </tr>\n",
       "    <tr>\n",
       "      <th>3</th>\n",
       "      <td>4</td>\n",
       "      <td>1</td>\n",
       "      <td>1</td>\n",
       "      <td>Futrelle, Mrs. Jacques Heath (Lily May Peel)</td>\n",
       "      <td>female</td>\n",
       "      <td>35.0</td>\n",
       "      <td>1</td>\n",
       "      <td>0</td>\n",
       "      <td>113803</td>\n",
       "      <td>53.1000</td>\n",
       "      <td>C123</td>\n",
       "      <td>S</td>\n",
       "    </tr>\n",
       "    <tr>\n",
       "      <th>4</th>\n",
       "      <td>5</td>\n",
       "      <td>0</td>\n",
       "      <td>3</td>\n",
       "      <td>Allen, Mr. William Henry</td>\n",
       "      <td>male</td>\n",
       "      <td>35.0</td>\n",
       "      <td>0</td>\n",
       "      <td>0</td>\n",
       "      <td>373450</td>\n",
       "      <td>8.0500</td>\n",
       "      <td>NaN</td>\n",
       "      <td>S</td>\n",
       "    </tr>\n",
       "  </tbody>\n",
       "</table>\n",
       "</div>"
      ],
      "text/plain": [
       "   PassengerId  Survived  Pclass  \\\n",
       "0            1         0       3   \n",
       "1            2         1       1   \n",
       "2            3         1       3   \n",
       "3            4         1       1   \n",
       "4            5         0       3   \n",
       "\n",
       "                                                Name     Sex   Age  SibSp  \\\n",
       "0                            Braund, Mr. Owen Harris    male  22.0      1   \n",
       "1  Cumings, Mrs. John Bradley (Florence Briggs Th...  female  38.0      1   \n",
       "2                             Heikkinen, Miss. Laina  female  26.0      0   \n",
       "3       Futrelle, Mrs. Jacques Heath (Lily May Peel)  female  35.0      1   \n",
       "4                           Allen, Mr. William Henry    male  35.0      0   \n",
       "\n",
       "   Parch            Ticket     Fare Cabin Embarked  \n",
       "0      0         A/5 21171   7.2500   NaN        S  \n",
       "1      0          PC 17599  71.2833   C85        C  \n",
       "2      0  STON/O2. 3101282   7.9250   NaN        S  \n",
       "3      0            113803  53.1000  C123        S  \n",
       "4      0            373450   8.0500   NaN        S  "
      ]
     },
     "execution_count": 5,
     "metadata": {},
     "output_type": "execute_result"
    }
   ],
   "source": [
    "train_data.head()"
   ]
  },
  {
   "cell_type": "code",
   "execution_count": 6,
   "id": "506825ea-d1c9-4880-b063-9d723fad704c",
   "metadata": {},
   "outputs": [
    {
     "data": {
      "text/plain": [
       "(891, 12)"
      ]
     },
     "execution_count": 6,
     "metadata": {},
     "output_type": "execute_result"
    }
   ],
   "source": [
    "train_data.shape"
   ]
  },
  {
   "cell_type": "code",
   "execution_count": 7,
   "id": "4c114e4f-3742-4b02-b8f8-8119805fe523",
   "metadata": {},
   "outputs": [
    {
     "name": "stdout",
     "output_type": "stream",
     "text": [
      "<class 'pandas.core.frame.DataFrame'>\n",
      "RangeIndex: 891 entries, 0 to 890\n",
      "Data columns (total 12 columns):\n",
      " #   Column       Non-Null Count  Dtype  \n",
      "---  ------       --------------  -----  \n",
      " 0   PassengerId  891 non-null    int64  \n",
      " 1   Survived     891 non-null    int64  \n",
      " 2   Pclass       891 non-null    int64  \n",
      " 3   Name         891 non-null    object \n",
      " 4   Sex          891 non-null    object \n",
      " 5   Age          714 non-null    float64\n",
      " 6   SibSp        891 non-null    int64  \n",
      " 7   Parch        891 non-null    int64  \n",
      " 8   Ticket       891 non-null    object \n",
      " 9   Fare         891 non-null    float64\n",
      " 10  Cabin        204 non-null    object \n",
      " 11  Embarked     889 non-null    object \n",
      "dtypes: float64(2), int64(5), object(5)\n",
      "memory usage: 83.7+ KB\n"
     ]
    }
   ],
   "source": [
    "train_data.info()"
   ]
  },
  {
   "cell_type": "code",
   "execution_count": 8,
   "id": "41e5d72b-0d1c-4093-8630-d44367fb7638",
   "metadata": {},
   "outputs": [
    {
     "data": {
      "text/plain": [
       "PassengerId      0\n",
       "Survived         0\n",
       "Pclass           0\n",
       "Name             0\n",
       "Sex              0\n",
       "Age            177\n",
       "SibSp            0\n",
       "Parch            0\n",
       "Ticket           0\n",
       "Fare             0\n",
       "Cabin          687\n",
       "Embarked         2\n",
       "dtype: int64"
      ]
     },
     "execution_count": 8,
     "metadata": {},
     "output_type": "execute_result"
    }
   ],
   "source": [
    "train_data.isna().sum()"
   ]
  },
  {
   "cell_type": "code",
   "execution_count": 9,
   "id": "cf1b0020-7ca0-4ffb-99dc-13e0f4c47ecc",
   "metadata": {},
   "outputs": [
    {
     "data": {
      "text/html": [
       "<div>\n",
       "<style scoped>\n",
       "    .dataframe tbody tr th:only-of-type {\n",
       "        vertical-align: middle;\n",
       "    }\n",
       "\n",
       "    .dataframe tbody tr th {\n",
       "        vertical-align: top;\n",
       "    }\n",
       "\n",
       "    .dataframe thead th {\n",
       "        text-align: right;\n",
       "    }\n",
       "</style>\n",
       "<table border=\"1\" class=\"dataframe\">\n",
       "  <thead>\n",
       "    <tr style=\"text-align: right;\">\n",
       "      <th></th>\n",
       "      <th>PassengerId</th>\n",
       "      <th>Survived</th>\n",
       "      <th>Pclass</th>\n",
       "      <th>Age</th>\n",
       "      <th>SibSp</th>\n",
       "      <th>Parch</th>\n",
       "      <th>Fare</th>\n",
       "    </tr>\n",
       "  </thead>\n",
       "  <tbody>\n",
       "    <tr>\n",
       "      <th>count</th>\n",
       "      <td>891.000000</td>\n",
       "      <td>891.000000</td>\n",
       "      <td>891.000000</td>\n",
       "      <td>714.000000</td>\n",
       "      <td>891.000000</td>\n",
       "      <td>891.000000</td>\n",
       "      <td>891.000000</td>\n",
       "    </tr>\n",
       "    <tr>\n",
       "      <th>mean</th>\n",
       "      <td>446.000000</td>\n",
       "      <td>0.383838</td>\n",
       "      <td>2.308642</td>\n",
       "      <td>29.699118</td>\n",
       "      <td>0.523008</td>\n",
       "      <td>0.381594</td>\n",
       "      <td>32.204208</td>\n",
       "    </tr>\n",
       "    <tr>\n",
       "      <th>std</th>\n",
       "      <td>257.353842</td>\n",
       "      <td>0.486592</td>\n",
       "      <td>0.836071</td>\n",
       "      <td>14.526497</td>\n",
       "      <td>1.102743</td>\n",
       "      <td>0.806057</td>\n",
       "      <td>49.693429</td>\n",
       "    </tr>\n",
       "    <tr>\n",
       "      <th>min</th>\n",
       "      <td>1.000000</td>\n",
       "      <td>0.000000</td>\n",
       "      <td>1.000000</td>\n",
       "      <td>0.420000</td>\n",
       "      <td>0.000000</td>\n",
       "      <td>0.000000</td>\n",
       "      <td>0.000000</td>\n",
       "    </tr>\n",
       "    <tr>\n",
       "      <th>25%</th>\n",
       "      <td>223.500000</td>\n",
       "      <td>0.000000</td>\n",
       "      <td>2.000000</td>\n",
       "      <td>20.125000</td>\n",
       "      <td>0.000000</td>\n",
       "      <td>0.000000</td>\n",
       "      <td>7.910400</td>\n",
       "    </tr>\n",
       "    <tr>\n",
       "      <th>50%</th>\n",
       "      <td>446.000000</td>\n",
       "      <td>0.000000</td>\n",
       "      <td>3.000000</td>\n",
       "      <td>28.000000</td>\n",
       "      <td>0.000000</td>\n",
       "      <td>0.000000</td>\n",
       "      <td>14.454200</td>\n",
       "    </tr>\n",
       "    <tr>\n",
       "      <th>75%</th>\n",
       "      <td>668.500000</td>\n",
       "      <td>1.000000</td>\n",
       "      <td>3.000000</td>\n",
       "      <td>38.000000</td>\n",
       "      <td>1.000000</td>\n",
       "      <td>0.000000</td>\n",
       "      <td>31.000000</td>\n",
       "    </tr>\n",
       "    <tr>\n",
       "      <th>max</th>\n",
       "      <td>891.000000</td>\n",
       "      <td>1.000000</td>\n",
       "      <td>3.000000</td>\n",
       "      <td>80.000000</td>\n",
       "      <td>8.000000</td>\n",
       "      <td>6.000000</td>\n",
       "      <td>512.329200</td>\n",
       "    </tr>\n",
       "  </tbody>\n",
       "</table>\n",
       "</div>"
      ],
      "text/plain": [
       "       PassengerId    Survived      Pclass         Age       SibSp  \\\n",
       "count   891.000000  891.000000  891.000000  714.000000  891.000000   \n",
       "mean    446.000000    0.383838    2.308642   29.699118    0.523008   \n",
       "std     257.353842    0.486592    0.836071   14.526497    1.102743   \n",
       "min       1.000000    0.000000    1.000000    0.420000    0.000000   \n",
       "25%     223.500000    0.000000    2.000000   20.125000    0.000000   \n",
       "50%     446.000000    0.000000    3.000000   28.000000    0.000000   \n",
       "75%     668.500000    1.000000    3.000000   38.000000    1.000000   \n",
       "max     891.000000    1.000000    3.000000   80.000000    8.000000   \n",
       "\n",
       "            Parch        Fare  \n",
       "count  891.000000  891.000000  \n",
       "mean     0.381594   32.204208  \n",
       "std      0.806057   49.693429  \n",
       "min      0.000000    0.000000  \n",
       "25%      0.000000    7.910400  \n",
       "50%      0.000000   14.454200  \n",
       "75%      0.000000   31.000000  \n",
       "max      6.000000  512.329200  "
      ]
     },
     "execution_count": 9,
     "metadata": {},
     "output_type": "execute_result"
    }
   ],
   "source": [
    "train_data.describe()"
   ]
  },
  {
   "cell_type": "markdown",
   "id": "4342fa67-8cdb-4a7b-9657-7bf8a1c90559",
   "metadata": {},
   "source": [
    "Exploratory Data Analysis :"
   ]
  },
  {
   "cell_type": "code",
   "execution_count": 10,
   "id": "0edf3f88-6c7a-4b51-ac7e-aa9e0c84d927",
   "metadata": {},
   "outputs": [
    {
     "data": {
      "image/png": "[encoded data removed]",
      "text/plain": [
       "<Figure size 600x400 with 1 Axes>"
      ]
     },
     "metadata": {},
     "output_type": "display_data"
    },
    {
     "data": {
      "text/plain": [
       "Survived\n",
       "0    549\n",
       "1    342\n",
       "Name: count, dtype: int64"
      ]
     },
     "execution_count": 10,
     "metadata": {},
     "output_type": "execute_result"
    }
   ],
   "source": [
    "plt.figure(figsize=(6,4))\n",
    "plot=sns.countplot(x='Survived', data=train_data,palette=\"rocket\")\n",
    "plt.title('Overall Survival')\n",
    "plt.xticks( np.arange(2), ['Not Survived', 'Survived'] )\n",
    "labels = (train_data['Survived'].value_counts())\n",
    "for i, v in enumerate(labels):\n",
    "    plot.text(i, v-40, str(v), horizontalalignment = 'center', size = 14, color = 'w')\n",
    "plt.show()\n",
    "train_data['Survived'].value_counts()"
   ]
  },
  {
   "cell_type": "markdown",
   "id": "03f30e93-f555-461a-a77e-553266a65854",
   "metadata": {},
   "source": [
    "Distribution of Passenger Class :"
   ]
  },
  {
   "cell_type": "code",
   "execution_count": 11,
   "id": "657e0c4a-1233-4eee-b037-70317282c738",
   "metadata": {},
   "outputs": [
    {
     "data": {
      "image/png": "[encoded data removed]",
      "text/plain": [
       "<Figure size 600x600 with 1 Axes>"
      ]
     },
     "metadata": {},
     "output_type": "display_data"
    }
   ],
   "source": [
    "df_class = pd.DataFrame(train_data['Pclass'].value_counts()/len(train_data))\n",
    "\n",
    "df_class['Pclass'] = df_class.index\n",
    "plt.rcParams['figure.figsize'] = (6,6)\n",
    "fig = plt.figure()\n",
    "ax = fig.add_subplot(1, 1, 1)\n",
    "ax.pie(df_class['Pclass'],\n",
    "       labels=df_class['Pclass'],\n",
    "       autopct=\"%1.1f%%\",\n",
    "       startangle=90)\n",
    "plt.title(\"Distribution of PClass\")\n",
    "plt.show()"
   ]
  },
  {
   "cell_type": "markdown",
   "id": "f448775b-a5f7-4d1e-95bd-7eef0f9cc5ab",
   "metadata": {},
   "source": [
    "Sex Counts based on survival :"
   ]
  },
  {
   "cell_type": "code",
   "execution_count": 12,
   "id": "38b47194-fb23-4041-9db2-4a5c6d58cc3c",
   "metadata": {},
   "outputs": [
    {
     "data": {
      "text/plain": [
       "<Figure size 600x400 with 0 Axes>"
      ]
     },
     "metadata": {},
     "output_type": "display_data"
    },
    {
     "data": {
      "image/png": "[encoded data removed]",
      "text/plain": [
       "<Figure size 1098x500 with 2 Axes>"
      ]
     },
     "metadata": {},
     "output_type": "display_data"
    }
   ],
   "source": [
    "plt.figure(figsize=(6,4))\n",
    "sns.catplot(x='Sex', col='Survived', kind='count', data=train_data, palette='Set2');"
   ]
  },
  {
   "cell_type": "markdown",
   "id": "607c006c-e4f6-42fd-9f52-8ef2198c9e62",
   "metadata": {},
   "source": [
    "Distribution of Age :"
   ]
  },
  {
   "cell_type": "code",
   "execution_count": 13,
   "id": "5cab82e2-2c63-4ac1-bf0b-519142ef1bbb",
   "metadata": {},
   "outputs": [
    {
     "data": {
      "text/plain": [
       "<Axes: xlabel='Age', ylabel='Density'>"
      ]
     },
     "execution_count": 13,
     "metadata": {},
     "output_type": "execute_result"
    },
    {
     "data": {
      "image/png": "[encoded data removed]",
      "text/plain": [
       "<Figure size 600x400 with 1 Axes>"
      ]
     },
     "metadata": {},
     "output_type": "display_data"
    }
   ],
   "source": [
    "plt.figure(figsize=(6,4))\n",
    "sns.distplot(train_data['Age'])"
   ]
  },
  {
   "cell_type": "markdown",
   "id": "30e8d11c-c1e4-4167-b418-5e5679ef826d",
   "metadata": {},
   "source": [
    "Counts of Siblings and Spouse of Passengers :"
   ]
  },
  {
   "cell_type": "code",
   "execution_count": 14,
   "id": "21c771dd-e539-4144-9f42-a140d2852b4a",
   "metadata": {},
   "outputs": [
    {
     "data": {
      "text/plain": [
       "<Axes: xlabel='SibSp', ylabel='count'>"
      ]
     },
     "execution_count": 14,
     "metadata": {},
     "output_type": "execute_result"
    },
    {
     "data": {
      "image/png": "[encoded data removed]",
      "text/plain": [
       "<Figure size 600x600 with 1 Axes>"
      ]
     },
     "metadata": {},
     "output_type": "display_data"
    }
   ],
   "source": [
    "sns.countplot(x='SibSp',data=train_data)"
   ]
  },
  {
   "cell_type": "markdown",
   "id": "04883827-5d1e-449a-a33c-db16a54745a7",
   "metadata": {},
   "source": [
    "Distribution of Ticket Fare :"
   ]
  },
  {
   "cell_type": "code",
   "execution_count": 15,
   "id": "3d97afe2-2b52-494f-a4a4-59ff9d974d43",
   "metadata": {},
   "outputs": [
    {
     "data": {
      "text/plain": [
       "<Axes: xlabel='Fare', ylabel='Density'>"
      ]
     },
     "execution_count": 15,
     "metadata": {},
     "output_type": "execute_result"
    },
    {
     "data": {
      "image/png": "[encoded data removed]",
      "text/plain": [
       "<Figure size 600x400 with 1 Axes>"
      ]
     },
     "metadata": {},
     "output_type": "display_data"
    }
   ],
   "source": [
    "plt.figure(figsize=(6,4))\n",
    "sns.distplot(train_data['Fare'])"
   ]
  },
  {
   "cell_type": "markdown",
   "id": "13d238c7-e460-48cb-b6ab-1396613348bd",
   "metadata": {},
   "source": [
    "Counts Passenger Based on Port Of Embarkation :"
   ]
  },
  {
   "cell_type": "code",
   "execution_count": 16,
   "id": "94e90c6a-2d15-4d74-baae-cc2246bfa195",
   "metadata": {},
   "outputs": [
    {
     "data": {
      "image/png": "[encoded data removed]",
      "text/plain": [
       "<Figure size 600x400 with 1 Axes>"
      ]
     },
     "metadata": {},
     "output_type": "display_data"
    },
    {
     "data": {
      "text/plain": [
       "Survived\n",
       "0    549\n",
       "1    342\n",
       "Name: count, dtype: int64"
      ]
     },
     "execution_count": 16,
     "metadata": {},
     "output_type": "execute_result"
    }
   ],
   "source": [
    "plt.figure(figsize=(6,4))\n",
    "plot=sns.countplot(x='Embarked', data=train_data,palette=\"Set2\")\n",
    "plt.title('Overall Survival')\n",
    "#plt.xticks( np.arange(2), ['Drowned', 'Survived'] )\n",
    "labels = (train_data['Embarked'].value_counts())\n",
    "for i, v in enumerate(labels):\n",
    "    plot.text(i, v-40, str(v), horizontalalignment = 'center', size = 14, color = 'w')\n",
    "plt.show()\n",
    "train_data['Survived'].value_counts()"
   ]
  },
  {
   "cell_type": "markdown",
   "id": "b4aa36c4-b4c2-44fb-bb4f-5b988217ea5a",
   "metadata": {},
   "source": [
    "Survival Counts of Ports of Embarkation :"
   ]
  },
  {
   "cell_type": "code",
   "execution_count": 17,
   "id": "00c7a8c4-c330-49c7-a18b-c4071b54c1ce",
   "metadata": {},
   "outputs": [
    {
     "data": {
      "text/plain": [
       "<Axes: xlabel='Embarked', ylabel='count'>"
      ]
     },
     "execution_count": 17,
     "metadata": {},
     "output_type": "execute_result"
    },
    {
     "data": {
      "image/png": "[encoded data removed]",
      "text/plain": [
       "<Figure size 600x600 with 1 Axes>"
      ]
     },
     "metadata": {},
     "output_type": "display_data"
    }
   ],
   "source": [
    "sns.countplot(x=\"Embarked\", data=train_data,\n",
    "              hue=\"Survived\",palette=\"Set1\",linewidth=0.2)"
   ]
  },
  {
   "cell_type": "markdown",
   "id": "f0305efa-763e-4ac0-86f0-0785227ba2ed",
   "metadata": {},
   "source": [
    "Data Preprocessing :"
   ]
  },
  {
   "cell_type": "code",
   "execution_count": 21,
   "id": "a53c6c3b-653e-4704-b0fa-a0fff3b12916",
   "metadata": {},
   "outputs": [
    {
     "data": {
      "text/plain": [
       "PassengerId      0\n",
       "Survived         0\n",
       "Pclass           0\n",
       "Name             0\n",
       "Sex              0\n",
       "Age            177\n",
       "SibSp            0\n",
       "Parch            0\n",
       "Ticket           0\n",
       "Fare             0\n",
       "Cabin          687\n",
       "Embarked         2\n",
       "dtype: int64"
      ]
     },
     "execution_count": 21,
     "metadata": {},
     "output_type": "execute_result"
    }
   ],
   "source": [
    "train_data.isnull().sum()"
   ]
  },
  {
   "cell_type": "code",
   "execution_count": 22,
   "id": "38c51467-633a-4110-8717-acdaef54b9d7",
   "metadata": {},
   "outputs": [
    {
     "name": "stdout",
     "output_type": "stream",
     "text": [
      "<class 'pandas.core.frame.DataFrame'>\n",
      "RangeIndex: 891 entries, 0 to 890\n",
      "Data columns (total 12 columns):\n",
      " #   Column       Non-Null Count  Dtype  \n",
      "---  ------       --------------  -----  \n",
      " 0   PassengerId  891 non-null    int64  \n",
      " 1   Survived     891 non-null    int64  \n",
      " 2   Pclass       891 non-null    int64  \n",
      " 3   Name         891 non-null    object \n",
      " 4   Sex          891 non-null    object \n",
      " 5   Age          714 non-null    float64\n",
      " 6   SibSp        891 non-null    int64  \n",
      " 7   Parch        891 non-null    int64  \n",
      " 8   Ticket       891 non-null    object \n",
      " 9   Fare         891 non-null    float64\n",
      " 10  Cabin        204 non-null    object \n",
      " 11  Embarked     889 non-null    object \n",
      "dtypes: float64(2), int64(5), object(5)\n",
      "memory usage: 83.7+ KB\n"
     ]
    }
   ],
   "source": [
    "train_data.info()"
   ]
  },
  {
   "cell_type": "markdown",
   "id": "ecd12c20-972b-407c-9ee2-122394f3e34e",
   "metadata": {},
   "source": [
    "Drop unnecessary columns :"
   ]
  },
  {
   "cell_type": "code",
   "execution_count": 23,
   "id": "902e4206-ebbb-4cab-a2f5-352e1dd7a2ac",
   "metadata": {},
   "outputs": [],
   "source": [
    "train_data=train_data.drop(columns=['PassengerId','Name','Cabin','Ticket',],axis=1)"
   ]
  },
  {
   "cell_type": "markdown",
   "id": "9ce84d1d-4135-4e66-b164-ce21e7da3cb2",
   "metadata": {},
   "source": [
    "Label Encoding or categorical column :"
   ]
  },
  {
   "cell_type": "code",
   "execution_count": 24,
   "id": "206a0623-ef98-4cd1-9191-5511efe942fd",
   "metadata": {},
   "outputs": [],
   "source": [
    "train_data['Age'].fillna(train_data['Age'].mean(), inplace=True)\n",
    "train_data['Fare'].fillna(train_data['Fare'].mean(), inplace=True)"
   ]
  },
  {
   "cell_type": "code",
   "execution_count": 25,
   "id": "46177611-eabb-4fc0-ab28-bf09417428c9",
   "metadata": {},
   "outputs": [
    {
     "name": "stdout",
     "output_type": "stream",
     "text": [
      "S\n"
     ]
    }
   ],
   "source": [
    "print(train_data['Embarked'].mode()[0])"
   ]
  },
  {
   "cell_type": "code",
   "execution_count": 27,
   "id": "b905f197-67eb-42ba-8dec-951ad6489ea7",
   "metadata": {},
   "outputs": [],
   "source": [
    "train_data['Embarked'].fillna(train_data['Embarked'].mode()[0], inplace=True)"
   ]
  },
  {
   "cell_type": "code",
   "execution_count": 28,
   "id": "da2f5fa1-4e6b-4273-8368-32c2e67011e0",
   "metadata": {},
   "outputs": [
    {
     "data": {
      "text/plain": [
       "Survived    0\n",
       "Pclass      0\n",
       "Sex         0\n",
       "Age         0\n",
       "SibSp       0\n",
       "Parch       0\n",
       "Fare        0\n",
       "Embarked    0\n",
       "dtype: int64"
      ]
     },
     "execution_count": 28,
     "metadata": {},
     "output_type": "execute_result"
    }
   ],
   "source": [
    "train_data.isnull().sum()"
   ]
  },
  {
   "cell_type": "code",
   "execution_count": 29,
   "id": "23a9033f-4190-447f-82e5-f1e7846a1228",
   "metadata": {},
   "outputs": [
    {
     "data": {
      "text/plain": [
       "Sex\n",
       "male      577\n",
       "female    314\n",
       "Name: count, dtype: int64"
      ]
     },
     "execution_count": 29,
     "metadata": {},
     "output_type": "execute_result"
    }
   ],
   "source": [
    "train_data['Sex'].value_counts()"
   ]
  },
  {
   "cell_type": "code",
   "execution_count": 30,
   "id": "26547d74-0f35-428b-948b-159da594a5e2",
   "metadata": {},
   "outputs": [
    {
     "data": {
      "text/plain": [
       "Embarked\n",
       "S    646\n",
       "C    168\n",
       "Q     77\n",
       "Name: count, dtype: int64"
      ]
     },
     "execution_count": 30,
     "metadata": {},
     "output_type": "execute_result"
    }
   ],
   "source": [
    "train_data['Embarked'].value_counts()"
   ]
  },
  {
   "cell_type": "code",
   "execution_count": 31,
   "id": "32d12d4a-69d1-4c75-89ff-db1575adf626",
   "metadata": {},
   "outputs": [],
   "source": [
    "le = LabelEncoder()\n",
    "train_data['Sex']= le.fit_transform(train_data['Sex'])"
   ]
  },
  {
   "cell_type": "code",
   "execution_count": 32,
   "id": "e5089167-5b28-458b-8f1c-d28d5f2bd0d3",
   "metadata": {},
   "outputs": [
    {
     "data": {
      "text/plain": [
       "Sex\n",
       "1    577\n",
       "0    314\n",
       "Name: count, dtype: int64"
      ]
     },
     "execution_count": 32,
     "metadata": {},
     "output_type": "execute_result"
    }
   ],
   "source": [
    "train_data['Sex'].value_counts()"
   ]
  },
  {
   "cell_type": "code",
   "execution_count": 33,
   "id": "c5ee8b7c-5bc3-438c-a001-c1d1fe9f2267",
   "metadata": {},
   "outputs": [],
   "source": [
    "embarked_dummies = pd.get_dummies(train_data['Embarked'])\n",
    "train_data = pd.concat([train_data, embarked_dummies], axis=1)\n",
    "train_data= train_data.drop(['Embarked'], axis=1)"
   ]
  },
  {
   "cell_type": "code",
   "execution_count": 34,
   "id": "47801e04-c21f-4492-a942-9252ba4d50a3",
   "metadata": {},
   "outputs": [
    {
     "data": {
      "text/html": [
       "<div>\n",
       "<style scoped>\n",
       "    .dataframe tbody tr th:only-of-type {\n",
       "        vertical-align: middle;\n",
       "    }\n",
       "\n",
       "    .dataframe tbody tr th {\n",
       "        vertical-align: top;\n",
       "    }\n",
       "\n",
       "    .dataframe thead th {\n",
       "        text-align: right;\n",
       "    }\n",
       "</style>\n",
       "<table border=\"1\" class=\"dataframe\">\n",
       "  <thead>\n",
       "    <tr style=\"text-align: right;\">\n",
       "      <th></th>\n",
       "      <th>Survived</th>\n",
       "      <th>Pclass</th>\n",
       "      <th>Sex</th>\n",
       "      <th>Age</th>\n",
       "      <th>SibSp</th>\n",
       "      <th>Parch</th>\n",
       "      <th>Fare</th>\n",
       "      <th>C</th>\n",
       "      <th>Q</th>\n",
       "      <th>S</th>\n",
       "    </tr>\n",
       "  </thead>\n",
       "  <tbody>\n",
       "    <tr>\n",
       "      <th>0</th>\n",
       "      <td>0</td>\n",
       "      <td>3</td>\n",
       "      <td>1</td>\n",
       "      <td>22.000000</td>\n",
       "      <td>1</td>\n",
       "      <td>0</td>\n",
       "      <td>7.2500</td>\n",
       "      <td>False</td>\n",
       "      <td>False</td>\n",
       "      <td>True</td>\n",
       "    </tr>\n",
       "    <tr>\n",
       "      <th>1</th>\n",
       "      <td>1</td>\n",
       "      <td>1</td>\n",
       "      <td>0</td>\n",
       "      <td>38.000000</td>\n",
       "      <td>1</td>\n",
       "      <td>0</td>\n",
       "      <td>71.2833</td>\n",
       "      <td>True</td>\n",
       "      <td>False</td>\n",
       "      <td>False</td>\n",
       "    </tr>\n",
       "    <tr>\n",
       "      <th>2</th>\n",
       "      <td>1</td>\n",
       "      <td>3</td>\n",
       "      <td>0</td>\n",
       "      <td>26.000000</td>\n",
       "      <td>0</td>\n",
       "      <td>0</td>\n",
       "      <td>7.9250</td>\n",
       "      <td>False</td>\n",
       "      <td>False</td>\n",
       "      <td>True</td>\n",
       "    </tr>\n",
       "    <tr>\n",
       "      <th>3</th>\n",
       "      <td>1</td>\n",
       "      <td>1</td>\n",
       "      <td>0</td>\n",
       "      <td>35.000000</td>\n",
       "      <td>1</td>\n",
       "      <td>0</td>\n",
       "      <td>53.1000</td>\n",
       "      <td>False</td>\n",
       "      <td>False</td>\n",
       "      <td>True</td>\n",
       "    </tr>\n",
       "    <tr>\n",
       "      <th>4</th>\n",
       "      <td>0</td>\n",
       "      <td>3</td>\n",
       "      <td>1</td>\n",
       "      <td>35.000000</td>\n",
       "      <td>0</td>\n",
       "      <td>0</td>\n",
       "      <td>8.0500</td>\n",
       "      <td>False</td>\n",
       "      <td>False</td>\n",
       "      <td>True</td>\n",
       "    </tr>\n",
       "    <tr>\n",
       "      <th>5</th>\n",
       "      <td>0</td>\n",
       "      <td>3</td>\n",
       "      <td>1</td>\n",
       "      <td>29.699118</td>\n",
       "      <td>0</td>\n",
       "      <td>0</td>\n",
       "      <td>8.4583</td>\n",
       "      <td>False</td>\n",
       "      <td>True</td>\n",
       "      <td>False</td>\n",
       "    </tr>\n",
       "    <tr>\n",
       "      <th>6</th>\n",
       "      <td>0</td>\n",
       "      <td>1</td>\n",
       "      <td>1</td>\n",
       "      <td>54.000000</td>\n",
       "      <td>0</td>\n",
       "      <td>0</td>\n",
       "      <td>51.8625</td>\n",
       "      <td>False</td>\n",
       "      <td>False</td>\n",
       "      <td>True</td>\n",
       "    </tr>\n",
       "    <tr>\n",
       "      <th>7</th>\n",
       "      <td>0</td>\n",
       "      <td>3</td>\n",
       "      <td>1</td>\n",
       "      <td>2.000000</td>\n",
       "      <td>3</td>\n",
       "      <td>1</td>\n",
       "      <td>21.0750</td>\n",
       "      <td>False</td>\n",
       "      <td>False</td>\n",
       "      <td>True</td>\n",
       "    </tr>\n",
       "    <tr>\n",
       "      <th>8</th>\n",
       "      <td>1</td>\n",
       "      <td>3</td>\n",
       "      <td>0</td>\n",
       "      <td>27.000000</td>\n",
       "      <td>0</td>\n",
       "      <td>2</td>\n",
       "      <td>11.1333</td>\n",
       "      <td>False</td>\n",
       "      <td>False</td>\n",
       "      <td>True</td>\n",
       "    </tr>\n",
       "    <tr>\n",
       "      <th>9</th>\n",
       "      <td>1</td>\n",
       "      <td>2</td>\n",
       "      <td>0</td>\n",
       "      <td>14.000000</td>\n",
       "      <td>1</td>\n",
       "      <td>0</td>\n",
       "      <td>30.0708</td>\n",
       "      <td>True</td>\n",
       "      <td>False</td>\n",
       "      <td>False</td>\n",
       "    </tr>\n",
       "  </tbody>\n",
       "</table>\n",
       "</div>"
      ],
      "text/plain": [
       "   Survived  Pclass  Sex        Age  SibSp  Parch     Fare      C      Q  \\\n",
       "0         0       3    1  22.000000      1      0   7.2500  False  False   \n",
       "1         1       1    0  38.000000      1      0  71.2833   True  False   \n",
       "2         1       3    0  26.000000      0      0   7.9250  False  False   \n",
       "3         1       1    0  35.000000      1      0  53.1000  False  False   \n",
       "4         0       3    1  35.000000      0      0   8.0500  False  False   \n",
       "5         0       3    1  29.699118      0      0   8.4583  False   True   \n",
       "6         0       1    1  54.000000      0      0  51.8625  False  False   \n",
       "7         0       3    1   2.000000      3      1  21.0750  False  False   \n",
       "8         1       3    0  27.000000      0      2  11.1333  False  False   \n",
       "9         1       2    0  14.000000      1      0  30.0708   True  False   \n",
       "\n",
       "       S  \n",
       "0   True  \n",
       "1  False  \n",
       "2   True  \n",
       "3   True  \n",
       "4   True  \n",
       "5  False  \n",
       "6   True  \n",
       "7   True  \n",
       "8   True  \n",
       "9  False  "
      ]
     },
     "execution_count": 34,
     "metadata": {},
     "output_type": "execute_result"
    }
   ],
   "source": [
    "train_data.head(10)"
   ]
  },
  {
   "cell_type": "code",
   "execution_count": 35,
   "id": "681a1720-61c7-4c6f-be90-25b18f31ecff",
   "metadata": {},
   "outputs": [],
   "source": [
    "train_data['Age']=train_data['Age'].astype(int)"
   ]
  },
  {
   "cell_type": "code",
   "execution_count": 36,
   "id": "6f8a9f3a-deed-4a57-8d2e-e497bb63b044",
   "metadata": {},
   "outputs": [],
   "source": [
    "train_data.to_csv('train_csv',index=False)"
   ]
  },
  {
   "cell_type": "markdown",
   "id": "2010c58a-f275-45db-9e11-6ec88d8ee39c",
   "metadata": {},
   "source": [
    "Split Data :"
   ]
  },
  {
   "cell_type": "code",
   "execution_count": 37,
   "id": "571800e4-0695-4f78-92ca-e50d2781372f",
   "metadata": {},
   "outputs": [],
   "source": [
    "X = train_data.drop(columns =['Survived'] ,axis=1)\n",
    "Y = train_data['Survived']"
   ]
  },
  {
   "cell_type": "code",
   "execution_count": 38,
   "id": "76999703-3dbf-46a3-95d5-215ebd1ed078",
   "metadata": {},
   "outputs": [
    {
     "data": {
      "text/html": [
       "<div>\n",
       "<style scoped>\n",
       "    .dataframe tbody tr th:only-of-type {\n",
       "        vertical-align: middle;\n",
       "    }\n",
       "\n",
       "    .dataframe tbody tr th {\n",
       "        vertical-align: top;\n",
       "    }\n",
       "\n",
       "    .dataframe thead th {\n",
       "        text-align: right;\n",
       "    }\n",
       "</style>\n",
       "<table border=\"1\" class=\"dataframe\">\n",
       "  <thead>\n",
       "    <tr style=\"text-align: right;\">\n",
       "      <th></th>\n",
       "      <th>Pclass</th>\n",
       "      <th>Sex</th>\n",
       "      <th>Age</th>\n",
       "      <th>SibSp</th>\n",
       "      <th>Parch</th>\n",
       "      <th>Fare</th>\n",
       "      <th>C</th>\n",
       "      <th>Q</th>\n",
       "      <th>S</th>\n",
       "    </tr>\n",
       "  </thead>\n",
       "  <tbody>\n",
       "    <tr>\n",
       "      <th>0</th>\n",
       "      <td>3</td>\n",
       "      <td>1</td>\n",
       "      <td>22</td>\n",
       "      <td>1</td>\n",
       "      <td>0</td>\n",
       "      <td>7.2500</td>\n",
       "      <td>False</td>\n",
       "      <td>False</td>\n",
       "      <td>True</td>\n",
       "    </tr>\n",
       "    <tr>\n",
       "      <th>1</th>\n",
       "      <td>1</td>\n",
       "      <td>0</td>\n",
       "      <td>38</td>\n",
       "      <td>1</td>\n",
       "      <td>0</td>\n",
       "      <td>71.2833</td>\n",
       "      <td>True</td>\n",
       "      <td>False</td>\n",
       "      <td>False</td>\n",
       "    </tr>\n",
       "    <tr>\n",
       "      <th>2</th>\n",
       "      <td>3</td>\n",
       "      <td>0</td>\n",
       "      <td>26</td>\n",
       "      <td>0</td>\n",
       "      <td>0</td>\n",
       "      <td>7.9250</td>\n",
       "      <td>False</td>\n",
       "      <td>False</td>\n",
       "      <td>True</td>\n",
       "    </tr>\n",
       "    <tr>\n",
       "      <th>3</th>\n",
       "      <td>1</td>\n",
       "      <td>0</td>\n",
       "      <td>35</td>\n",
       "      <td>1</td>\n",
       "      <td>0</td>\n",
       "      <td>53.1000</td>\n",
       "      <td>False</td>\n",
       "      <td>False</td>\n",
       "      <td>True</td>\n",
       "    </tr>\n",
       "    <tr>\n",
       "      <th>4</th>\n",
       "      <td>3</td>\n",
       "      <td>1</td>\n",
       "      <td>35</td>\n",
       "      <td>0</td>\n",
       "      <td>0</td>\n",
       "      <td>8.0500</td>\n",
       "      <td>False</td>\n",
       "      <td>False</td>\n",
       "      <td>True</td>\n",
       "    </tr>\n",
       "  </tbody>\n",
       "</table>\n",
       "</div>"
      ],
      "text/plain": [
       "   Pclass  Sex  Age  SibSp  Parch     Fare      C      Q      S\n",
       "0       3    1   22      1      0   7.2500  False  False   True\n",
       "1       1    0   38      1      0  71.2833   True  False  False\n",
       "2       3    0   26      0      0   7.9250  False  False   True\n",
       "3       1    0   35      1      0  53.1000  False  False   True\n",
       "4       3    1   35      0      0   8.0500  False  False   True"
      ]
     },
     "execution_count": 38,
     "metadata": {},
     "output_type": "execute_result"
    }
   ],
   "source": [
    "X.head()"
   ]
  },
  {
   "cell_type": "code",
   "execution_count": 39,
   "id": "83f6c7e0-2fe8-41f4-81fa-1f28c1228827",
   "metadata": {},
   "outputs": [
    {
     "data": {
      "text/plain": [
       "0    0\n",
       "1    1\n",
       "2    1\n",
       "3    1\n",
       "4    0\n",
       "Name: Survived, dtype: int64"
      ]
     },
     "execution_count": 39,
     "metadata": {},
     "output_type": "execute_result"
    }
   ],
   "source": [
    "Y.head()"
   ]
  },
  {
   "cell_type": "markdown",
   "id": "b7c9c61b-b69a-4dda-8718-48057f260c9e",
   "metadata": {},
   "source": [
    "Split Data into Train and Test Data :"
   ]
  },
  {
   "cell_type": "code",
   "execution_count": 40,
   "id": "443be5c4-cc73-43cf-b6cc-4bb0252d4397",
   "metadata": {},
   "outputs": [],
   "source": [
    "X_train, X_test, Y_train, Y_test = train_test_split(X,Y, test_size=0.25, random_state=42)\n"
   ]
  },
  {
   "cell_type": "code",
   "execution_count": 41,
   "id": "ada13478-68cd-4a26-8206-ae7009b0d556",
   "metadata": {},
   "outputs": [
    {
     "data": {
      "text/plain": [
       "(891, 9)"
      ]
     },
     "execution_count": 41,
     "metadata": {},
     "output_type": "execute_result"
    }
   ],
   "source": [
    "X.shape"
   ]
  },
  {
   "cell_type": "code",
   "execution_count": 42,
   "id": "874a4d8c-f438-46b8-bd14-0c65c4fb7d4a",
   "metadata": {},
   "outputs": [
    {
     "name": "stdout",
     "output_type": "stream",
     "text": [
      "(668, 9) (223, 9)\n"
     ]
    }
   ],
   "source": [
    "print( X_train.shape, X_test.shape)"
   ]
  },
  {
   "cell_type": "code",
   "execution_count": 43,
   "id": "c06006c7-c4db-4f4c-9c15-57ef8f2cf4f8",
   "metadata": {},
   "outputs": [
    {
     "name": "stdout",
     "output_type": "stream",
     "text": [
      "(668,) (223,)\n"
     ]
    }
   ],
   "source": [
    "print( Y_train.shape, Y_test.shape)"
   ]
  },
  {
   "cell_type": "markdown",
   "id": "c135d77a-96f0-408a-a92a-244725529115",
   "metadata": {},
   "source": [
    "Model Building and Evaluation :"
   ]
  },
  {
   "cell_type": "markdown",
   "id": "6847f3d8-cf2f-48dd-9a66-549791fcec1a",
   "metadata": {},
   "source": [
    "Logistic Regression :"
   ]
  },
  {
   "cell_type": "code",
   "execution_count": 44,
   "id": "ffce78bf-8a7a-41b1-9aa3-79683efb60fe",
   "metadata": {},
   "outputs": [
    {
     "name": "stdout",
     "output_type": "stream",
     "text": [
      "Logistic Regression :\n",
      "              precision    recall  f1-score   support\n",
      "\n",
      "           0       0.82      0.86      0.84       134\n",
      "           1       0.77      0.72      0.74        89\n",
      "\n",
      "    accuracy                           0.80       223\n",
      "   macro avg       0.80      0.79      0.79       223\n",
      "weighted avg       0.80      0.80      0.80       223\n",
      "\n",
      "Accuracy Score: 0.8026905829596412\n"
     ]
    }
   ],
   "source": [
    "lr=LogisticRegression(random_state=0)\n",
    "lr.fit(X_train,Y_train)\n",
    "lr_y_pred=lr.predict(X_test)\n",
    "print(\"Logistic Regression :\")\n",
    "print(classification_report(Y_test,lr_y_pred))\n",
    "ac_lr=accuracy_score(Y_test, lr_y_pred)\n",
    "print(\"Accuracy Score:\",ac_lr)"
   ]
  },
  {
   "cell_type": "code",
   "execution_count": 61,
   "id": "472ef551-3046-48be-a841-11bc4b900476",
   "metadata": {},
   "outputs": [],
   "source": [
    "model_df = pd.DataFrame(columns=[\"Model Name\",\"Accuracy Score\"])\n",
    "new_row = {\"Model Name\":\"Logistic Regression\", \"Accuracy Score\":ac_lr}\n",
    "model_df = model_df._append(new_row, ignore_index=True)\n"
   ]
  },
  {
   "cell_type": "markdown",
   "id": "02acabd8-f069-4880-b49f-33aed9bac6d3",
   "metadata": {},
   "source": [
    "Random Forest :"
   ]
  },
  {
   "cell_type": "code",
   "execution_count": 46,
   "id": "99c6c4ff-9216-4ab2-9c56-3584244810f0",
   "metadata": {},
   "outputs": [
    {
     "name": "stdout",
     "output_type": "stream",
     "text": [
      "Random Forest :\n",
      "              precision    recall  f1-score   support\n",
      "\n",
      "           0       0.82      0.87      0.84       134\n",
      "           1       0.78      0.72      0.75        89\n",
      "\n",
      "    accuracy                           0.81       223\n",
      "   macro avg       0.80      0.79      0.80       223\n",
      "weighted avg       0.81      0.81      0.81       223\n",
      "\n",
      "Accuracy Score: 0.8071748878923767\n"
     ]
    }
   ],
   "source": [
    "rf=RandomForestClassifier(max_depth=15, min_samples_split=15, n_estimators=200)\n",
    "rf.fit(X_train,Y_train)\n",
    "rf_y_pred=rf.predict(X_test)\n",
    "print(\"Random Forest :\")\n",
    "print(classification_report(Y_test,rf_y_pred))\n",
    "ac_rf=accuracy_score(Y_test,rf_y_pred)\n",
    "print(\"Accuracy Score:\",ac_rf)"
   ]
  },
  {
   "cell_type": "code",
   "execution_count": 62,
   "id": "4171986d-6f9f-43a2-ace8-316d28434d6d",
   "metadata": {},
   "outputs": [],
   "source": [
    "new_row = {\"Model Name\":\"Random Forest\", \"Accuracy Score\":ac_rf}\n",
    "model_df = model_df._append(new_row, ignore_index=True)"
   ]
  },
  {
   "cell_type": "markdown",
   "id": "8294638d-8fbe-4606-9b8f-1288ebd57f4a",
   "metadata": {},
   "source": [
    "Decision Tree :"
   ]
  },
  {
   "cell_type": "code",
   "execution_count": 49,
   "id": "7f3af2b2-efe4-405a-87ac-dc0811315287",
   "metadata": {},
   "outputs": [
    {
     "name": "stdout",
     "output_type": "stream",
     "text": [
      "Decision Tree:\n",
      "              precision    recall  f1-score   support\n",
      "\n",
      "           0       0.77      0.84      0.80       134\n",
      "           1       0.72      0.62      0.67        89\n",
      "\n",
      "    accuracy                           0.75       223\n",
      "   macro avg       0.75      0.73      0.74       223\n",
      "weighted avg       0.75      0.75      0.75       223\n",
      "\n",
      "Accuracy Score: 0.7533632286995515\n"
     ]
    }
   ],
   "source": [
    "dt=DecisionTreeClassifier(random_state=0,criterion=\"entropy\")\n",
    "dt.fit(X_train,Y_train)\n",
    "dt_y_pred=dt.predict(X_test)\n",
    "print(\"Decision Tree:\")\n",
    "print(classification_report(Y_test,dt_y_pred))\n",
    "ac_dt=accuracy_score(Y_test,dt_y_pred)\n",
    "print(\"Accuracy Score:\",ac_dt)"
   ]
  },
  {
   "cell_type": "code",
   "execution_count": 63,
   "id": "3ee9b3c6-22fd-4250-b57c-282f74f32a04",
   "metadata": {},
   "outputs": [],
   "source": [
    "new_row = {\"Model Name\":\"Decision Tree\", \"Accuracy Score\":ac_dt}\n",
    "model_df = model_df._append(new_row, ignore_index=True)\n",
    "     "
   ]
  },
  {
   "cell_type": "markdown",
   "id": "931af689-d403-4894-acc9-72cd49276b8b",
   "metadata": {},
   "source": [
    "XGBoost :"
   ]
  },
  {
   "cell_type": "code",
   "execution_count": 50,
   "id": "d3b6d900-e7f2-42ea-b900-ae506f399374",
   "metadata": {},
   "outputs": [
    {
     "name": "stdout",
     "output_type": "stream",
     "text": [
      "XGB Classifier:\n",
      "              precision    recall  f1-score   support\n",
      "\n",
      "           0       0.83      0.82      0.83       134\n",
      "           1       0.74      0.75      0.74        89\n",
      "\n",
      "    accuracy                           0.79       223\n",
      "   macro avg       0.78      0.79      0.79       223\n",
      "weighted avg       0.79      0.79      0.79       223\n",
      "\n",
      "Accuracy Score: 0.7937219730941704\n"
     ]
    }
   ],
   "source": [
    "from xgboost import XGBClassifier\n",
    "xgb=XGBClassifier()\n",
    "xgb.fit(X_train,Y_train)\n",
    "xgb_y_pred=xgb.predict(X_test)\n",
    "print(\"XGB Classifier:\")\n",
    "print(classification_report(Y_test,xgb_y_pred))\n",
    "ac_xgb=accuracy_score(Y_test,xgb_y_pred)\n",
    "print(\"Accuracy Score:\",ac_xgb)"
   ]
  },
  {
   "cell_type": "code",
   "execution_count": 64,
   "id": "29c0d25d-d6ce-4b42-a972-0f238fd1c815",
   "metadata": {},
   "outputs": [],
   "source": [
    "new_row = {\"Model Name\":\"XGB\", \"Accuracy Score\":ac_xgb}\n",
    "model_df = model_df._append(new_row, ignore_index=True)\n",
    "     "
   ]
  },
  {
   "cell_type": "code",
   "execution_count": 65,
   "id": "5c230240-7b66-4d8e-a08c-31fa5b642625",
   "metadata": {},
   "outputs": [
    {
     "data": {
      "text/html": [
       "<div>\n",
       "<style scoped>\n",
       "    .dataframe tbody tr th:only-of-type {\n",
       "        vertical-align: middle;\n",
       "    }\n",
       "\n",
       "    .dataframe tbody tr th {\n",
       "        vertical-align: top;\n",
       "    }\n",
       "\n",
       "    .dataframe thead th {\n",
       "        text-align: right;\n",
       "    }\n",
       "</style>\n",
       "<table border=\"1\" class=\"dataframe\">\n",
       "  <thead>\n",
       "    <tr style=\"text-align: right;\">\n",
       "      <th></th>\n",
       "      <th>Model Name</th>\n",
       "      <th>Accuracy Score</th>\n",
       "    </tr>\n",
       "  </thead>\n",
       "  <tbody>\n",
       "    <tr>\n",
       "      <th>1</th>\n",
       "      <td>Random Forest</td>\n",
       "      <td>0.807175</td>\n",
       "    </tr>\n",
       "    <tr>\n",
       "      <th>0</th>\n",
       "      <td>Logistic Regression</td>\n",
       "      <td>0.802691</td>\n",
       "    </tr>\n",
       "    <tr>\n",
       "      <th>3</th>\n",
       "      <td>XGB</td>\n",
       "      <td>0.793722</td>\n",
       "    </tr>\n",
       "    <tr>\n",
       "      <th>2</th>\n",
       "      <td>Decision Tree</td>\n",
       "      <td>0.753363</td>\n",
       "    </tr>\n",
       "  </tbody>\n",
       "</table>\n",
       "</div>"
      ],
      "text/plain": [
       "            Model Name  Accuracy Score\n",
       "1        Random Forest        0.807175\n",
       "0  Logistic Regression        0.802691\n",
       "3                  XGB        0.793722\n",
       "2        Decision Tree        0.753363"
      ]
     },
     "execution_count": 65,
     "metadata": {},
     "output_type": "execute_result"
    }
   ],
   "source": [
    "model_df.sort_values(\"Accuracy Score\", ascending=False)\n",
    "     "
   ]
  },
  {
   "cell_type": "markdown",
   "id": "e2b85c0b-35cc-4636-a4ff-71b7b4913b0f",
   "metadata": {},
   "source": [
    "Random Forest Has Highesht Accuracy"
   ]
  },
  {
   "cell_type": "markdown",
   "id": "5b56affe-43f0-4a87-a6ff-66585b7d3847",
   "metadata": {},
   "source": [
    "Confusion Matrix for Random forest :"
   ]
  },
  {
   "cell_type": "code",
   "execution_count": 66,
   "id": "048b7f85-dca7-4306-83e3-b677f89efdee",
   "metadata": {},
   "outputs": [
    {
     "data": {
      "text/plain": [
       "array([[116,  18],\n",
       "       [ 25,  64]], dtype=int64)"
      ]
     },
     "execution_count": 66,
     "metadata": {},
     "output_type": "execute_result"
    }
   ],
   "source": [
    "from sklearn.metrics import confusion_matrix\n",
    "cm=confusion_matrix(Y_test, rf_y_pred)\n",
    "cm\n"
   ]
  },
  {
   "cell_type": "code",
   "execution_count": 67,
   "id": "f5859dfe-4ece-4618-af2a-b534cc04c7e3",
   "metadata": {},
   "outputs": [
    {
     "data": {
      "text/plain": [
       "Text(45.722222222222214, 0.5, 'Actual Values')"
      ]
     },
     "execution_count": 67,
     "metadata": {},
     "output_type": "execute_result"
    },
    {
     "data": {
      "image/png": "[encoded data removed]",
      "text/plain": [
       "<Figure size 600x600 with 2 Axes>"
      ]
     },
     "metadata": {},
     "output_type": "display_data"
    }
   ],
   "source": [
    "#Confusion matrix for Random Forest\n",
    "#fig, ax = plt.subplots(figsize=(8, 8))\n",
    "subb=fig.add_subplot  (2,2,i+1)\n",
    "cm_plot=sns.heatmap(cm,annot=True)\n",
    "cm_plot.set_xlabel('Predicted Values')\n",
    "cm_plot.set_ylabel('Actual Values')"
   ]
  },
  {
   "cell_type": "markdown",
   "id": "44471ce9-10be-4d8c-bcc6-560c9be18542",
   "metadata": {},
   "source": [
    "Prediction :"
   ]
  },
  {
   "cell_type": "code",
   "execution_count": 69,
   "id": "ef4fe577-f519-44d2-b31f-67889bb267eb",
   "metadata": {},
   "outputs": [
    {
     "name": "stdout",
     "output_type": "stream",
     "text": [
      "[0]\n",
      "Not Survived (0)\n"
     ]
    }
   ],
   "source": [
    "op=rf.predict([[3,1,22,1,0,7.2500,0,0,1]])\n",
    "print(op)\n",
    "if (op[0] == 0):\n",
    "  print('Not Survived (0)')\n",
    "else:\n",
    "  print('Survived')"
   ]
  },
  {
   "cell_type": "code",
   "execution_count": 70,
   "id": "d36e4072-93da-4a74-b230-e70c550ba97d",
   "metadata": {},
   "outputs": [
    {
     "name": "stdout",
     "output_type": "stream",
     "text": [
      "[1]\n",
      "Survived\n"
     ]
    }
   ],
   "source": [
    "op=rf.predict([[1,0,38,1,0,71.2833,1,0,0]])\n",
    "print(op)\n",
    "if (op[0] == 0):\n",
    "  print('Not Survived (0)')\n",
    "else:\n",
    "  print('Survived')\n",
    "     "
   ]
  },
  {
   "cell_type": "code",
   "execution_count": 71,
   "id": "3519a70e-7800-46e6-b84b-df0bcbe836a1",
   "metadata": {},
   "outputs": [
    {
     "name": "stdout",
     "output_type": "stream",
     "text": [
      "[0]\n",
      "Not Survived (0)\n"
     ]
    }
   ],
   "source": [
    "op=rf.predict([[3,1,35,0,0,8.0500,0,0,1]])\n",
    "print(op)\n",
    "if (op[0] == 0):\n",
    "  print('Not Survived (0)')\n",
    "else:\n",
    "  print('Survived')"
   ]
  },
  {
   "cell_type": "markdown",
   "id": "8172c939-099a-4f9f-ac12-49eefe9782f9",
   "metadata": {},
   "source": [
    "Model dump :"
   ]
  },
  {
   "cell_type": "code",
   "execution_count": 72,
   "id": "7b4f1b89-e030-47ff-bf84-7df1201e6c10",
   "metadata": {},
   "outputs": [],
   "source": [
    "import pickle\n",
    "pickle.dump(rf, open('RF_model.pkl','wb'))"
   ]
  },
  {
   "cell_type": "code",
   "execution_count": 73,
   "id": "10971de2-b457-4536-a712-4c1bcda4ab5b",
   "metadata": {},
   "outputs": [],
   "source": [
    "model_pk = pickle.load(open('RF_model.pkl','rb'))"
   ]
  }
 ],
 "metadata": {
  "kernelspec": {
   "display_name": "Python 3 (ipykernel)",
   "language": "python",
   "name": "python3"
  },
  "language_info": {
   "codemirror_mode": {
    "name": "ipython",
    "version": 3
   },
   "file_extension": ".py",
   "mimetype": "text/x-python",
   "name": "python",
   "nbconvert_exporter": "python",
   "pygments_lexer": "ipython3",
   "version": "3.9.11"
  }
 },
 "nbformat": 4,
 "nbformat_minor": 5
}
